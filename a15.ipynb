{
  "nbformat": 4,
  "nbformat_minor": 0,
  "metadata": {
    "colab": {
      "name": "a15.ipynb",
      "provenance": [],
      "authorship_tag": "ABX9TyMXrXuoKGx3ab0SUPpP1z3F",
      "include_colab_link": true
    },
    "kernelspec": {
      "name": "python3",
      "display_name": "Python 3"
    },
    "language_info": {
      "name": "python"
    }
  },
  "cells": [
    {
      "cell_type": "markdown",
      "metadata": {
        "id": "view-in-github",
        "colab_type": "text"
      },
      "source": [
        "<a href=\"https://colab.research.google.com/github/pyeonghwalee/Python_report/blob/main/a15.ipynb\" target=\"_parent\"><img src=\"https://colab.research.google.com/assets/colab-badge.svg\" alt=\"Open In Colab\"/></a>"
      ]
    },
    {
      "cell_type": "code",
      "execution_count": 1,
      "metadata": {
        "colab": {
          "base_uri": "https://localhost:8080/"
        },
        "id": "8cOI7ifKtIWR",
        "outputId": "de59ad02-8ac6-428f-ce5a-bad48c06239d"
      },
      "outputs": [
        {
          "output_type": "stream",
          "name": "stdout",
          "text": [
            "#########################\n",
            "# 합격 불합격 프로그램 #\n",
            "#########################\n",
            "성적을 입력하시오.:  95\n",
            "합격\n"
          ]
        }
      ],
      "source": [
        "print(\"#########################\")\n",
        "print(\"# 합격 불합격 프로그램 #\")\n",
        "print(\"#########################\")\n",
        "\n",
        "grade = int(input(\"성적을 입력하시오.:  \"))\n",
        "if grade >= 60 :\n",
        "    print(\"합격\")\n",
        "else :\n",
        "    print(\"불합격\")\n",
        "    "
      ]
    }
  ]
}