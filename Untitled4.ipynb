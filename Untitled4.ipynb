{
  "nbformat": 4,
  "nbformat_minor": 0,
  "metadata": {
    "colab": {
      "name": "Untitled4.ipynb",
      "provenance": [],
      "authorship_tag": "ABX9TyMqiblaqxI4G/qqZv+9uRa/",
      "include_colab_link": true
    },
    "kernelspec": {
      "name": "python3",
      "display_name": "Python 3"
    },
    "language_info": {
      "name": "python"
    }
  },
  "cells": [
    {
      "cell_type": "markdown",
      "metadata": {
        "id": "view-in-github",
        "colab_type": "text"
      },
      "source": [
        "<a href=\"https://colab.research.google.com/github/pyeonghwalee/Python_report/blob/main/Untitled4.ipynb\" target=\"_parent\"><img src=\"https://colab.research.google.com/assets/colab-badge.svg\" alt=\"Open In Colab\"/></a>"
      ]
    },
    {
      "cell_type": "code",
      "execution_count": null,
      "metadata": {
        "colab": {
          "base_uri": "https://localhost:8080/"
        },
        "id": "w_fuuKBLdRk2",
        "outputId": "d87a0cf1-677e-4dc5-b62e-66ffcba41152"
      },
      "outputs": [
        {
          "name": "stdout",
          "output_type": "stream",
          "text": [
            "정수를 입력하시오:  7\n"
          ]
        }
      ],
      "source": [
        "5. \n",
        "sum = 0 \n",
        "while True:\n",
        "    x = int(input(\"정수를 입력하시오:  \"))\n",
        "    if x == 0:\n",
        "        break;\n",
        "    sum = sum + x\n",
        "print(\"합은 \", sum, \"입니다. \")"
      ]
    }
  ]
}