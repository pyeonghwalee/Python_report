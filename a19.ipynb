{
  "nbformat": 4,
  "nbformat_minor": 0,
  "metadata": {
    "colab": {
      "name": "a19.ipynb",
      "provenance": [],
      "authorship_tag": "ABX9TyMpNgo4ggzqTC+8lCnLoOxB",
      "include_colab_link": true
    },
    "kernelspec": {
      "name": "python3",
      "display_name": "Python 3"
    },
    "language_info": {
      "name": "python"
    }
  },
  "cells": [
    {
      "cell_type": "markdown",
      "metadata": {
        "id": "view-in-github",
        "colab_type": "text"
      },
      "source": [
        "<a href=\"https://colab.research.google.com/github/pyeonghwalee/Python_report/blob/main/a19.ipynb\" target=\"_parent\"><img src=\"https://colab.research.google.com/assets/colab-badge.svg\" alt=\"Open In Colab\"/></a>"
      ]
    },
    {
      "cell_type": "code",
      "execution_count": 1,
      "metadata": {
        "colab": {
          "base_uri": "https://localhost:8080/"
        },
        "id": "z5TGTn67uViR",
        "outputId": "f2b30ca5-c28d-4ba6-afe5-953075340527"
      },
      "outputs": [
        {
          "output_type": "stream",
          "name": "stdout",
          "text": [
            "#########################\n",
            "# 이름, 나이, 답변 앱 #\n",
            "#########################\n",
            "이름: 이평화\n",
            "나이: 21\n",
            "와우!!! 프로그래밍을 완벽하게 배울 수 있는 나이입니다.!\n",
            "/n\n"
          ]
        }
      ],
      "source": [
        "print(\"#########################\")\n",
        "print(\"# 이름, 나이, 답변 앱 #\")\n",
        "print(\"#########################\")\n",
        "\n",
        "yu_name = str(input(\"이름: \"))\n",
        "yu_age = int(input(\"나이: \"))\n",
        "\n",
        "if yu_age <= 25 :\n",
        "    print(\"와우!!! 프로그래밍을 완벽하게 배울 수 있는 나이입니다.!\")\n",
        "else:\n",
        "    print(\"포기하기에는 아직 늦지 않았습니다.\")\n",
        "print(\"/n\")\n",
        "    "
      ]
    }
  ]
}