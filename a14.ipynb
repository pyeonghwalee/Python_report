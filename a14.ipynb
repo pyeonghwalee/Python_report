{
  "nbformat": 4,
  "nbformat_minor": 0,
  "metadata": {
    "colab": {
      "name": "a14.ipynb",
      "provenance": [],
      "authorship_tag": "ABX9TyNQ7qPZy8nZV4L3DDLeOxMa",
      "include_colab_link": true
    },
    "kernelspec": {
      "name": "python3",
      "display_name": "Python 3"
    },
    "language_info": {
      "name": "python"
    }
  },
  "cells": [
    {
      "cell_type": "markdown",
      "metadata": {
        "id": "view-in-github",
        "colab_type": "text"
      },
      "source": [
        "<a href=\"https://colab.research.google.com/github/pyeonghwalee/Python_report/blob/main/a14.ipynb\" target=\"_parent\"><img src=\"https://colab.research.google.com/assets/colab-badge.svg\" alt=\"Open In Colab\"/></a>"
      ]
    },
    {
      "cell_type": "code",
      "execution_count": 1,
      "metadata": {
        "colab": {
          "base_uri": "https://localhost:8080/"
        },
        "id": "DyCuC4tmszow",
        "outputId": "392a7a6f-4cfc-4e82-df9a-980730533078"
      },
      "outputs": [
        {
          "output_type": "stream",
          "name": "stdout",
          "text": [
            "#########################\n",
            "# 배송료 계산 프로그램 #\n",
            "#########################\n",
            "상품의 가격을 입력하세요:  77140\n",
            "0\n"
          ]
        }
      ],
      "source": [
        "print(\"#########################\")\n",
        "print(\"# 배송료 계산 프로그램 #\")\n",
        "print(\"#########################\")\n",
        "price = int(input(\"상품의 가격을 입력하세요:  \"))\n",
        "if price > 2000:\n",
        "    shipping_cost = 0\n",
        "else:\n",
        "    shipping_cost = 3000\n",
        "print(shipping_cost)\n"
      ]
    }
  ]
}