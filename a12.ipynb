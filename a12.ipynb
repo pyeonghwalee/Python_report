{
  "nbformat": 4,
  "nbformat_minor": 0,
  "metadata": {
    "colab": {
      "name": "a12.ipynb",
      "provenance": [],
      "authorship_tag": "ABX9TyOy1MvmP1DuYw0+6BNCecfY",
      "include_colab_link": true
    },
    "kernelspec": {
      "name": "python3",
      "display_name": "Python 3"
    },
    "language_info": {
      "name": "python"
    }
  },
  "cells": [
    {
      "cell_type": "markdown",
      "metadata": {
        "id": "view-in-github",
        "colab_type": "text"
      },
      "source": [
        "<a href=\"https://colab.research.google.com/github/pyeonghwalee/Python_report/blob/main/a12.ipynb\" target=\"_parent\"><img src=\"https://colab.research.google.com/assets/colab-badge.svg\" alt=\"Open In Colab\"/></a>"
      ]
    },
    {
      "cell_type": "code",
      "execution_count": 1,
      "metadata": {
        "colab": {
          "base_uri": "https://localhost:8080/"
        },
        "id": "mmegVamAC1oW",
        "outputId": "33114943-ee8f-414e-daa8-7a6c6330c996"
      },
      "outputs": [
        {
          "output_type": "stream",
          "name": "stdout",
          "text": [
            "상품의 가격을 입력하시오:  20190\n",
            "2019.0\n"
          ]
        }
      ],
      "source": [
        "price = int(input(\"상품의 가격을 입력하시오:  \"))\n",
        "vat = price * 0.1\n",
        "print(vat)\n"
      ]
    }
  ]
}