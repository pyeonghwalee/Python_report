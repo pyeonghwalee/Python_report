{
  "nbformat": 4,
  "nbformat_minor": 0,
  "metadata": {
    "colab": {
      "name": "a13.ipynb",
      "provenance": [],
      "authorship_tag": "ABX9TyPhBDXYy12oPuLBQYZvJNJi",
      "include_colab_link": true
    },
    "kernelspec": {
      "name": "python3",
      "display_name": "Python 3"
    },
    "language_info": {
      "name": "python"
    }
  },
  "cells": [
    {
      "cell_type": "markdown",
      "metadata": {
        "id": "view-in-github",
        "colab_type": "text"
      },
      "source": [
        "<a href=\"https://colab.research.google.com/github/pyeonghwalee/Python_report/blob/main/a13.ipynb\" target=\"_parent\"><img src=\"https://colab.research.google.com/assets/colab-badge.svg\" alt=\"Open In Colab\"/></a>"
      ]
    },
    {
      "cell_type": "code",
      "execution_count": 1,
      "metadata": {
        "colab": {
          "base_uri": "https://localhost:8080/"
        },
        "id": "C47wDBIQCAyx",
        "outputId": "e929d2e8-2d4a-47e8-b99f-04e93c940417"
      },
      "outputs": [
        {
          "output_type": "stream",
          "name": "stdout",
          "text": [
            "현재 나이를 입력하시오:  21\n",
            "10년후면 31 세가 되시는 군요\n"
          ]
        }
      ],
      "source": [
        "age =int(input(\"현재 나이를 입력하시오:  \"))\n",
        "age = age + 10\n",
        "print(\"10년후면\", age, \"세가 되시는 군요\")\n"
      ]
    }
  ]
}