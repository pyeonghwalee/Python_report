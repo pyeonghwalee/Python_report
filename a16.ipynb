{
  "nbformat": 4,
  "nbformat_minor": 0,
  "metadata": {
    "colab": {
      "name": "a16.ipynb",
      "provenance": [],
      "authorship_tag": "ABX9TyMe4p+sVkeDByzA5QhscKls",
      "include_colab_link": true
    },
    "kernelspec": {
      "name": "python3",
      "display_name": "Python 3"
    },
    "language_info": {
      "name": "python"
    }
  },
  "cells": [
    {
      "cell_type": "markdown",
      "metadata": {
        "id": "view-in-github",
        "colab_type": "text"
      },
      "source": [
        "<a href=\"https://colab.research.google.com/github/pyeonghwalee/Python_report/blob/main/a16.ipynb\" target=\"_parent\"><img src=\"https://colab.research.google.com/assets/colab-badge.svg\" alt=\"Open In Colab\"/></a>"
      ]
    },
    {
      "cell_type": "code",
      "execution_count": 1,
      "metadata": {
        "id": "aPyIXZ0pvoKP",
        "outputId": "86e0bb5c-ddaf-4691-c7df-991552e716ec",
        "colab": {
          "base_uri": "https://localhost:8080/"
        }
      },
      "outputs": [
        {
          "output_type": "stream",
          "name": "stdout",
          "text": [
            "근무 시간을 입력하시오\n",
            "근무시간 입력:  65\n",
            "정상근무하셨습니다.\n"
          ]
        }
      ],
      "source": [
        "print(\"근무 시간을 입력하시오\")\n",
        "work_hour=int(input(\"근무시간 입력:  \"))\n",
        "\n",
        "if work_hour > 72 :\n",
        "    print(\"초과근무 하셨습니다.\")\n",
        "    \n",
        "else:\n",
        "    print(\"정상근무하셨습니다.\")\n",
        "    "
      ]
    }
  ]
}