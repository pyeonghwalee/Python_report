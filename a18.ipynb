{
  "nbformat": 4,
  "nbformat_minor": 0,
  "metadata": {
    "colab": {
      "name": "a18.ipynb",
      "provenance": [],
      "authorship_tag": "ABX9TyPop8wkSuDa2VgGvZkt65jP",
      "include_colab_link": true
    },
    "kernelspec": {
      "name": "python3",
      "display_name": "Python 3"
    },
    "language_info": {
      "name": "python"
    }
  },
  "cells": [
    {
      "cell_type": "markdown",
      "metadata": {
        "id": "view-in-github",
        "colab_type": "text"
      },
      "source": [
        "<a href=\"https://colab.research.google.com/github/pyeonghwalee/Python_report/blob/main/a18.ipynb\" target=\"_parent\"><img src=\"https://colab.research.google.com/assets/colab-badge.svg\" alt=\"Open In Colab\"/></a>"
      ]
    },
    {
      "cell_type": "code",
      "execution_count": 1,
      "metadata": {
        "colab": {
          "base_uri": "https://localhost:8080/"
        },
        "id": "UihkjPajuFrs",
        "outputId": "25a7b787-e283-4d91-dc1c-6b914d0816ed"
      },
      "outputs": [
        {
          "output_type": "stream",
          "name": "stdout",
          "text": [
            "정수를 입력하시오.\n",
            "정수값 x를 입력하시오.:  7\n",
            "정수값 y를 입력하시오.:  27\n",
            "27\n"
          ]
        }
      ],
      "source": [
        "print(\"정수를 입력하시오.\")\n",
        "x= int(input(\"정수값 x를 입력하시오.:  \"))\n",
        "y= int(input(\"정수값 y를 입력하시오.:  \"))\n",
        "if x > y :\n",
        "    print(x)\n",
        "else:\n",
        "    print(y)\n",
        "    "
      ]
    }
  ]
}