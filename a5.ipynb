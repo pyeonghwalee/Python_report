{
  "nbformat": 4,
  "nbformat_minor": 0,
  "metadata": {
    "colab": {
      "name": "a5.ipynb",
      "provenance": [],
      "authorship_tag": "ABX9TyNhXCTyqejDCZ8XgsUNOSwK",
      "include_colab_link": true
    },
    "kernelspec": {
      "name": "python3",
      "display_name": "Python 3"
    },
    "language_info": {
      "name": "python"
    }
  },
  "cells": [
    {
      "cell_type": "markdown",
      "metadata": {
        "id": "view-in-github",
        "colab_type": "text"
      },
      "source": [
        "<a href=\"https://colab.research.google.com/github/pyeonghwalee/Python_report/blob/main/a5.ipynb\" target=\"_parent\"><img src=\"https://colab.research.google.com/assets/colab-badge.svg\" alt=\"Open In Colab\"/></a>"
      ]
    },
    {
      "cell_type": "code",
      "execution_count": 1,
      "metadata": {
        "colab": {
          "base_uri": "https://localhost:8080/"
        },
        "id": "nOO7GmWn_SI2",
        "outputId": "33688ff0-166c-484c-ad54-73ec1b48cf07"
      },
      "outputs": [
        {
          "output_type": "stream",
          "name": "stdout",
          "text": [
            "Enter grade:  30\n",
            "Enter grade:  20\n",
            "Enter grade:  20\n",
            "Enter grade:  20\n",
            "Enter grade:  10\n",
            "Enter grade:  30\n",
            "Enter grade:  30\n",
            "Enter grade:  20\n",
            "Enter grade:  10\n",
            "Enter grade:  15\n",
            "20.5\n"
          ]
        }
      ],
      "source": [
        "total = 0\n",
        "counter = 1\n",
        "while counter <= 10:\n",
        "    grade=int(input (\"Enter grade:  \"))\n",
        "    total = grade + total\n",
        "    counter = counter + 1\n",
        "average = total / 10\n",
        "print(average)\n"
      ]
    }
  ]
}